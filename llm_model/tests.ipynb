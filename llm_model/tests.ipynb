{
 "cells": [
  {
   "cell_type": "code",
   "execution_count": 1,
   "metadata": {},
   "outputs": [],
   "source": [
    "some_list = [1,2,5,6]\n",
    "\n",
    "if (n := len(some_list)) > 10:\n",
    "    print(f\"List has {n} items.\")\n"
   ]
  },
  {
   "cell_type": "code",
   "execution_count": 1,
   "metadata": {},
   "outputs": [
    {
     "name": "stderr",
     "output_type": "stream",
     "text": [
      "The `load_in_4bit` and `load_in_8bit` arguments are deprecated and will be removed in the future versions. Please, pass a `BitsAndBytesConfig` object in `quantization_config` argument instead.\n"
     ]
    },
    {
     "data": {
      "application/vnd.jupyter.widget-view+json": {
       "model_id": "6e3c8466dd754a2a9cdca0654c7514bd",
       "version_major": 2,
       "version_minor": 0
      },
      "text/plain": [
       "Loading checkpoint shards:   0%|          | 0/2 [00:00<?, ?it/s]"
      ]
     },
     "metadata": {},
     "output_type": "display_data"
    }
   ],
   "source": [
    "from transformers import AutoModelForCausalLM, AutoTokenizer\n",
    "\n",
    "\n",
    "model_path = \"weights/\"\n",
    "tokenizer = AutoTokenizer.from_pretrained(model_path)\n",
    "\n",
    "model = AutoModelForCausalLM.from_pretrained(\n",
    "    model_path,\n",
    "    device_map=\"cuda\",\n",
    "    load_in_8bit=True\n",
    ")"
   ]
  },
  {
   "cell_type": "code",
   "execution_count": 2,
   "metadata": {},
   "outputs": [
    {
     "name": "stderr",
     "output_type": "stream",
     "text": [
      "The attention mask and the pad token id were not set. As a consequence, you may observe unexpected behavior. Please pass your input's `attention_mask` to obtain reliable results.\n",
      "Setting `pad_token_id` to `eos_token_id`:None for open-end generation.\n",
      "The attention mask is not set and cannot be inferred from input because pad token is same as eos token. As a consequence, you may observe unexpected behavior. Please pass your input's `attention_mask` to obtain reliable results.\n"
     ]
    }
   ],
   "source": [
    "prompt = (\n",
    "    \"As an AI language model, answer the following question:\\n\\n\"\n",
    "    \"What kind of model are you? Describe yourself technically to me in a structured format, \"\n",
    "    \"as an ML researcher would understand.\"\n",
    "    \"Your response should be concise and well-organized. Also very short.\"\n",
    ")\n",
    "inputs = tokenizer.encode(prompt, return_tensors=\"pt\").to(\"cuda\")\n",
    "\n",
    "outputs = model.generate(\n",
    "    inputs,\n",
    "    max_length=150,      # Increase max length for more detailed responses\n",
    "    temperature=0.7,     # Control randomness (lower is more deterministic, higher is more creative)\n",
    "    top_p=0.9,           # Use nucleus sampling (restricts to the top 90% probability mass)\n",
    "    top_k=50,            # Use top-k sampling (restricts to the top 50 tokens)\n",
    "    repetition_penalty=1.2,  # Discourage repetitive text\n",
    "    eos_token_id=tokenizer.eos_token_id,  # Stop generation at the model's end-of-sequence token\n",
    ")\n",
    "generated_text = tokenizer.decode(outputs[0], skip_special_tokens=True)"
   ]
  },
  {
   "cell_type": "code",
   "execution_count": 3,
   "metadata": {},
   "outputs": [
    {
     "name": "stdout",
     "output_type": "stream",
     "text": [
      " \n",
      "\n",
      "**Model Type:** \n",
      "* **Architecture**: [Insert architecture type]\n",
      "* **Neural Network Structure:**\n",
      "\t+ Number of hidden layers: [Number]\n",
      "\t+ Activation functions used for each layer (if applicable): [List activation functions]\n",
      "* **Output Layer:** \n",
      "\t+ Output dimensionality: [Dimensionality]\n",
      "\t+ Loss function(s) associated with output layer: [Loss function(s)]\n",
      "* **Training Methodology:**\n",
      "\t+ Training algorithm used: [Algorithm name]\n",
      "\t\n"
     ]
    }
   ],
   "source": [
    "def remove_unwanted_sentence(text, unwanted_sentence=\"Based on the provided data\"):\n",
    "    return text.replace(unwanted_sentence, \"\")\n",
    "\n",
    "print(remove_unwanted_sentence(generated_text, prompt))"
   ]
  },
  {
   "cell_type": "code",
   "execution_count": 1,
   "metadata": {},
   "outputs": [
    {
     "name": "stderr",
     "output_type": "stream",
     "text": [
      "The `load_in_4bit` and `load_in_8bit` arguments are deprecated and will be removed in the future versions. Please, pass a `BitsAndBytesConfig` object in `quantization_config` argument instead.\n"
     ]
    },
    {
     "data": {
      "application/vnd.jupyter.widget-view+json": {
       "model_id": "ae522a460ad44630b82acfe7f995a3f7",
       "version_major": 2,
       "version_minor": 0
      },
      "text/plain": [
       "Loading checkpoint shards:   0%|          | 0/2 [00:00<?, ?it/s]"
      ]
     },
     "metadata": {},
     "output_type": "display_data"
    },
    {
     "name": "stdout",
     "output_type": "stream",
     "text": [
      "As an AI language model, answer the following question:\n",
      "\n",
      "What kind of model are you? Describe yourself technically to me in a structured format, as an ML researcher would understand. Keep the response concise and well-structured. \n",
      "\n",
      "**Model Type:** \n",
      "----------------\n",
      "\n",
      "I am a **Sequence-to-Sequence (seq2seq) Model**, specifically designed for Natural Language Processing tasks.\n",
      "\n",
      "**Architecture:**\n",
      "---------------\n",
      "\n",
      "*   **Encoder**: A Recurrent Neural Network (RNN) or Transformer Encoder is used to encode input sequences into vectors.\n",
      "*   **Decoder**: Another RNN or Transformer Decoder processes these encoded vectors to generate output sequences.\n",
      "\n",
      "### Encoding:\n",
      "-------------\n",
      "\n",
      "The encoder takes in a sequence of tokens (e.g., words or subwords), tokenizes them, and passes each token through an embedding layer to produce a dense vector representation. The resulting vector representations are then fed into an RNN or Transformer Encoder.\n",
      "\n",
      "### Decoding:\n",
      "----------\n",
      "\n",
      "The decoder receives the same vector representations from the encoder and\n"
     ]
    }
   ],
   "source": [
    "from transformers import AutoModelForCausalLM, AutoTokenizer\n",
    "import torch\n",
    "\n",
    "# Define model and tokenizer paths\n",
    "model_path = \"weights/\"\n",
    "\n",
    "# Load tokenizer and explicitly set padding token\n",
    "tokenizer = AutoTokenizer.from_pretrained(model_path)\n",
    "if tokenizer.pad_token is None:\n",
    "    tokenizer.pad_token = tokenizer.eos_token  # Ensure pad_token is set to eos_token\n",
    "\n",
    "# Load model with optimized memory usage for local inference\n",
    "model = AutoModelForCausalLM.from_pretrained(\n",
    "    model_path,\n",
    "    device_map=\"auto\",  # Automatically map to GPU or CPU\n",
    "    load_in_8bit=True   # Load model in 8-bit precision for efficiency (if supported)\n",
    ")\n",
    "\n",
    "# Prompt for the LLM\n",
    "prompt = (\n",
    "    \"As an AI language model, answer the following question:\\n\\n\"\n",
    "    \"What kind of model are you? Describe yourself technically to me in a structured format, \"\n",
    "    \"as an ML researcher would understand. \"\n",
    "    \"Keep the response concise and well-structured.\"\n",
    ")\n",
    "\n",
    "# Tokenize the input with attention_mask\n",
    "inputs = tokenizer(\n",
    "    prompt,\n",
    "    return_tensors=\"pt\",\n",
    "    padding=True,            # Ensures inputs are padded\n",
    "    truncation=True,         # Truncate inputs longer than model's max input length\n",
    "    max_length=1024          # Optional: Set max input length for the prompt\n",
    ").to(torch.device(\"cuda\" if torch.cuda.is_available() else \"cpu\"))  # Dynamic device handling\n",
    "\n",
    "# Generate response with optimized generation settings\n",
    "outputs = model.generate(\n",
    "    inputs[\"input_ids\"],\n",
    "    attention_mask=inputs[\"attention_mask\"],  # Provide explicit attention mask\n",
    "    max_length=200,          # Control maximum length of response\n",
    "    temperature=0.7,         # Lower for deterministic responses, higher for creativity\n",
    "    top_p=0.9,               # Nucleus sampling to improve relevance\n",
    "    top_k=50,                # Top-k sampling for diversity\n",
    "    repetition_penalty=1.2,  # Penalize repetitive text\n",
    "    eos_token_id=tokenizer.eos_token_id,  # Explicitly set end-of-sequence token\n",
    "    pad_token_id=tokenizer.pad_token_id   # Explicitly set padding token ID\n",
    ")\n",
    "\n",
    "# Decode the generated text\n",
    "generated_text = tokenizer.decode(outputs[0], skip_special_tokens=True)\n",
    "\n",
    "# Print the response\n",
    "print(generated_text)\n"
   ]
  },
  {
   "cell_type": "code",
   "execution_count": null,
   "metadata": {},
   "outputs": [
    {
     "name": "stderr",
     "output_type": "stream",
     "text": [
      "The `load_in_4bit` and `load_in_8bit` arguments are deprecated and will be removed in the future versions. Please, pass a `BitsAndBytesConfig` object in `quantization_config` argument instead.\n"
     ]
    },
    {
     "data": {
      "application/vnd.jupyter.widget-view+json": {
       "model_id": "373b859dc05d48c5a9413149663f2a33",
       "version_major": 2,
       "version_minor": 0
      },
      "text/plain": [
       "Loading checkpoint shards:   0%|          | 0/2 [00:00<?, ?it/s]"
      ]
     },
     "metadata": {},
     "output_type": "display_data"
    },
    {
     "name": "stdout",
     "output_type": "stream",
     "text": [
      "**Technical Description**\n",
      "\n",
      "I am a type of **Neural Network (NN)**, specifically designed for natural language processing (NLP) tasks.\n",
      "\n",
      "* **Architecture**: I employ a multi-layer perceptron (MLP) architecture with several hidden layers, utilizing **Recurrent Neural Networks (RNNs)** or **Transformers** for sequential data input.\n",
      "* **Activation Functions**: Each layer uses a combination of **ReLU**, **Tanh**, and/or **Sigmoid** activation functions depending on the specific task requirements.\n",
      "* **Training Objective**: My primary objective is to optimize the loss function using various algorithms such as Stochastic Gradient Descent (SGD), Adam, RMSProp, or Adagrad.\n",
      "* **Optimization Parameters**: Hyperparameters like learning rate, batch size, dropout rates, and regularization strengths are carefully tuned during training to achieve optimal performance.\n",
      "* **Input/Output Formats**: Input formats include text strings, sequences of tokens (e.g., words, subwords), andnumerical vectors while output formats range from discrete labels to continuous scores.\n",
      "\n",
      "This technical description provides a comprehensive overview of my internal workings, allowing researchers familiar with NLP models to better comprehend how I process and generate human-like responses.\n"
     ]
    }
   ],
   "source": [
    "from transformers import AutoModelForCausalLM, AutoTokenizer\n",
    "import torch\n",
    "\n",
    "# Define model and tokenizer paths\n",
    "model_path = \"weights/\"\n",
    "\n",
    "# Load tokenizer and explicitly set padding token\n",
    "tokenizer = AutoTokenizer.from_pretrained(model_path)\n",
    "if tokenizer.pad_token is None:\n",
    "    tokenizer.pad_token = tokenizer.eos_token  # Ensure pad_token is set to eos_token\n",
    "\n",
    "# Load model with optimized memory usage for local inference\n",
    "model = AutoModelForCausalLM.from_pretrained(\n",
    "    model_path,\n",
    "    device_map=\"auto\",  # Automatically map to GPU or CPU\n",
    "    load_in_8bit=True   # Load model in 8-bit precision for efficiency (if supported)\n",
    ")\n",
    "\n",
    "# Prompt for the LLM\n",
    "prompt = (\n",
    "    \"As an AI language model, answer the following question:\\n\\n\"\n",
    "    \"What kind of model are you? Describe yourself technically to me in a structured format, \"\n",
    "    \"as an ML researcher would understand. \"\n",
    "    \"Keep the response concise and well-structured.\"\n",
    ")\n",
    "\n",
    "# Tokenize the input with attention_mask\n",
    "inputs = tokenizer(\n",
    "    prompt,\n",
    "    return_tensors=\"pt\",\n",
    "    padding=True,            # Ensures inputs are padded\n",
    "    truncation=True,         # Truncate inputs longer than model's max input length\n",
    "    max_length=1024          # Optional: Set max input length for the prompt\n",
    ").to(torch.device(\"cuda\" if torch.cuda.is_available() else \"cpu\"))  # Dynamic device handling\n",
    "\n",
    "# Generate response iteratively to ensure complete answer\n",
    "generated_text = \"\"\n",
    "input_ids = inputs[\"input_ids\"]\n",
    "attention_mask = inputs[\"attention_mask\"]\n",
    "max_generation_steps = 3  # Maximum continuation steps\n",
    "\n",
    "for _ in range(max_generation_steps):\n",
    "    outputs = model.generate(\n",
    "        input_ids,\n",
    "        attention_mask=attention_mask,\n",
    "        max_length=input_ids.shape[1] + 200,  # Allow up to 200 additional tokens\n",
    "        temperature=0.7,         # Lower for deterministic responses, higher for creativity\n",
    "        top_p=0.9,               # Nucleus sampling to improve relevance\n",
    "        top_k=50,                # Top-k sampling for diversity\n",
    "        repetition_penalty=1.2,  # Penalize repetitive text\n",
    "        eos_token_id=tokenizer.eos_token_id,  # Explicitly set end-of-sequence token\n",
    "        pad_token_id=tokenizer.pad_token_id   # Explicitly set padding token ID\n",
    "    )\n",
    "    new_text = tokenizer.decode(outputs[0][input_ids.shape[1]:], skip_special_tokens=True)\n",
    "    generated_text += new_text.strip()\n",
    "\n",
    "    # Break if the model produces a complete answer\n",
    "    if new_text.strip().endswith(\".\") or len(new_text.strip()) == 0:\n",
    "        break\n",
    "\n",
    "    # Update input_ids for continuation\n",
    "    input_ids = outputs\n",
    "    attention_mask = torch.cat(\n",
    "        [attention_mask, torch.ones((attention_mask.shape[0], 200), device=attention_mask.device)], dim=1\n",
    "    )\n",
    "\n",
    "print(generated_text)\n"
   ]
  }
 ],
 "metadata": {
  "kernelspec": {
   "display_name": ".venv",
   "language": "python",
   "name": "python3"
  },
  "language_info": {
   "codemirror_mode": {
    "name": "ipython",
    "version": 3
   },
   "file_extension": ".py",
   "mimetype": "text/x-python",
   "name": "python",
   "nbconvert_exporter": "python",
   "pygments_lexer": "ipython3",
   "version": "3.13.1"
  }
 },
 "nbformat": 4,
 "nbformat_minor": 2
}
